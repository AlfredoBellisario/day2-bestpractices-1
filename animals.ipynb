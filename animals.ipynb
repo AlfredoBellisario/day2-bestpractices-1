{
 "cells": [
  {
   "cell_type": "code",
   "execution_count": 2,
   "metadata": {},
   "outputs": [
    {
     "name": "stdout",
     "output_type": "stream",
     "text": [
      "Printing members\n",
      "\t Zebra\n",
      "\t Platypus\n",
      "\t Dolphin\n",
      "Printing members\n",
      "\t Canary\n",
      "\t Turkey\n",
      "\t Chicken\n",
      "Printing members\n",
      "\t Baby Shark\n",
      "\t Mama Shark\n",
      "\t Papa Shark\n",
      "\t Gradma Shark\n",
      "\t Grandpa Shark\n"
     ]
    }
   ],
   "source": [
    "import animals\n",
    "\n",
    "a = animals.Mammals()\n",
    "a.printMembers()\n",
    "\n",
    "b = animals.Birds()\n",
    "b.printMembers()\n",
    "\n",
    "c = animals.Fishes()\n",
    "c.printMembers()"
   ]
  },
  {
   "cell_type": "code",
   "execution_count": null,
   "metadata": {},
   "outputs": [],
   "source": []
  }
 ],
 "metadata": {
  "kernelspec": {
   "display_name": "Python 3",
   "language": "python",
   "name": "python3"
  },
  "language_info": {
   "codemirror_mode": {
    "name": "ipython",
    "version": 3
   },
   "file_extension": ".py",
   "mimetype": "text/x-python",
   "name": "python",
   "nbconvert_exporter": "python",
   "pygments_lexer": "ipython3",
   "version": "3.7.4"
  }
 },
 "nbformat": 4,
 "nbformat_minor": 2
}
